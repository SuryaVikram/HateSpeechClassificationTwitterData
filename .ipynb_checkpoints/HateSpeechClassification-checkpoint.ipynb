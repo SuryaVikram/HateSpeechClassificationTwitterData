{
 "cells": [
  {
   "cell_type": "code",
   "execution_count": 337,
   "metadata": {},
   "outputs": [],
   "source": [
    "import pandas as pd\n",
    "\n",
    "data = pd.read_csv(\"train.csv\",encoding=\"latin-1\")"
   ]
  },
  {
   "cell_type": "code",
   "execution_count": 338,
   "metadata": {},
   "outputs": [],
   "source": [
    "\n",
    "from string import printable\n",
    "import re\n"
   ]
  },
  {
   "cell_type": "code",
   "execution_count": 339,
   "metadata": {},
   "outputs": [],
   "source": [
    "from nltk.corpus import stopwords\n",
    "import string\n",
    "punctuation = string.punctuation\n",
    "stopwords = stopwords.words(\"english\")\n",
    "from nltk.stem.wordnet import WordNetLemmatizer\n",
    "\n",
    "lem = WordNetLemmatizer()\n",
    "\n",
    "def _clean(text):\n",
    "    text = text.lower()\n",
    "    text = re.sub(r\"amp\", \"\", text)\n",
    "    text = re.sub(r\"#\\w+\",\"\",text)\n",
    "    text = re.sub(r\"@\\w+\",\"\",text)\n",
    "    text = \"\".join(x for x in text if x not in punctuation)\n",
    "    \n",
    "    words = text.split()\n",
    "    #words = [\" \" if w.startswith(\"@\") else w for w in words ]\n",
    "    #words = [w for w in words if w != \"user\" ]\n",
    "    #words = [w for w in words if w != \"amp\" ]\n",
    "    \n",
    "    words = [w for w in words if w not in stopwords]\n",
    "    words = [lem.lemmatize(word,\"v\") for word in words]\n",
    "    words = [lem.lemmatize(word,\"n\") for word in words]\n",
    "    words = [w for w in words if len(w) >2]\n",
    "    \n",
    "    \n",
    "    \n",
    "    text = \" \".join(words)\n",
    "    return text\n",
    "\n",
    "def remove_non_ascii(text):\n",
    "    L = [32, 44, 46, 65,66,67,68,69,70,71,72,73,74,75,76,77,78,79,80,81,82,83,84,85,86,87,88,89,90,97,98,99,100,101,102,103, 104,105,106,107,108,109,110,111,112,113,114,115,116,117,118,119,120,121,122]\n",
    "    text = str(text)\n",
    "\n",
    "    return ''.join(i for i in text if ord(i) in L)\n",
    "\n",
    "pos_dic={\"noun\":[\"NNP\",\"NN\",\"NNS\",\"NNPS\"],\"verb\":[\"VBZ\",\"VB\",\"VBD\",\"VBN\",\"VBG\"]}\n",
    "\n",
    "import nltk\n",
    "\n",
    "def pos_check(text,family):\n",
    "    tags = nltk.pos_tag(nltk.word_tokenize(text))\n",
    "    count=0\n",
    "    \n",
    "    for tag in tags:\n",
    "        tag = tag[1]\n",
    "        if tag in pos_dic[family]:\n",
    "            count+=1\n",
    "    return count\n",
    "\n",
    "\n",
    "data[\"cleaned_text\"] = data[\"tweet\"].apply(_clean)\n",
    "data[\"cleaned_text\"] = data[\"cleaned_text\"].apply(remove_non_ascii)\n",
    "data[\"noun_count\"] = data[\"cleaned_text\"].apply(lambda x : pos_check(x,\"noun\"))\n",
    "data[\"verb_count\"] = data[\"cleaned_text\"].apply(lambda x : pos_check(x,\"verb\"))"
   ]
  },
  {
   "cell_type": "code",
   "execution_count": 340,
   "metadata": {},
   "outputs": [
    {
     "data": {
      "text/plain": [
       "0    29720\n",
       "1     2242\n",
       "Name: label, dtype: int64"
      ]
     },
     "execution_count": 340,
     "metadata": {},
     "output_type": "execute_result"
    }
   ],
   "source": [
    "data[\"label\"].value_counts()"
   ]
  },
  {
   "cell_type": "code",
   "execution_count": 341,
   "metadata": {},
   "outputs": [
    {
     "data": {
      "text/plain": [
       "[('day', 2508),\n",
       " ('get', 1783),\n",
       " ('happy', 1576),\n",
       " ('love', 1413),\n",
       " ('time', 1195),\n",
       " ('make', 1183),\n",
       " ('like', 1016),\n",
       " ('today', 1013),\n",
       " ('see', 933),\n",
       " ('new', 921),\n",
       " ('one', 829),\n",
       " ('people', 823),\n",
       " ('cant', 812),\n",
       " ('take', 802),\n",
       " ('good', 795),\n",
       " ('want', 770),\n",
       " ('dont', 729),\n",
       " ('life', 728),\n",
       " ('come', 728),\n",
       " ('father', 719),\n",
       " ('look', 707),\n",
       " ('feel', 693),\n",
       " ('need', 648),\n",
       " ('wait', 638),\n",
       " ('work', 631),\n",
       " ('think', 593),\n",
       " ('bihday', 584),\n",
       " ('thank', 574),\n",
       " ('week', 567),\n",
       " ('way', 556),\n",
       " ('say', 554),\n",
       " ('know', 553),\n",
       " ('find', 550),\n",
       " ('bull', 506),\n",
       " ('year', 505),\n",
       " ('great', 484),\n",
       " ('live', 476),\n",
       " ('thing', 474),\n",
       " ('best', 473),\n",
       " ('first', 471),\n",
       " ('really', 462),\n",
       " ('thankful', 456),\n",
       " ('back', 452),\n",
       " ('tomorrow', 435),\n",
       " ('watch', 434),\n",
       " ('even', 412),\n",
       " ('never', 408),\n",
       " ('morning', 396),\n",
       " ('friend', 396),\n",
       " ('world', 391)]"
      ]
     },
     "execution_count": 341,
     "metadata": {},
     "output_type": "execute_result"
    }
   ],
   "source": [
    "from collections import Counter\n",
    "\n",
    "complete_text = \" \".join(data[\"cleaned_text\"])\n",
    "words = complete_text.split()\n",
    "Counter(words).most_common(50)"
   ]
  },
  {
   "cell_type": "code",
   "execution_count": 342,
   "metadata": {},
   "outputs": [
    {
     "data": {
      "text/html": [
       "<div>\n",
       "<style scoped>\n",
       "    .dataframe tbody tr th:only-of-type {\n",
       "        vertical-align: middle;\n",
       "    }\n",
       "\n",
       "    .dataframe tbody tr th {\n",
       "        vertical-align: top;\n",
       "    }\n",
       "\n",
       "    .dataframe thead th {\n",
       "        text-align: right;\n",
       "    }\n",
       "</style>\n",
       "<table border=\"1\" class=\"dataframe\">\n",
       "  <thead>\n",
       "    <tr style=\"text-align: right;\">\n",
       "      <th></th>\n",
       "      <th>id</th>\n",
       "      <th>label</th>\n",
       "      <th>tweet</th>\n",
       "      <th>cleaned_text</th>\n",
       "      <th>noun_count</th>\n",
       "      <th>verb_count</th>\n",
       "      <th>text_polarity</th>\n",
       "    </tr>\n",
       "  </thead>\n",
       "  <tbody>\n",
       "    <tr>\n",
       "      <td>0</td>\n",
       "      <td>1</td>\n",
       "      <td>0</td>\n",
       "      <td>@user when a father is dysfunctional and is s...</td>\n",
       "      <td>father dysfunctional selfish drag kid dysfunction</td>\n",
       "      <td>3</td>\n",
       "      <td>0</td>\n",
       "      <td>1</td>\n",
       "    </tr>\n",
       "    <tr>\n",
       "      <td>1</td>\n",
       "      <td>2</td>\n",
       "      <td>0</td>\n",
       "      <td>@user @user thanks for #lyft credit i can't us...</td>\n",
       "      <td>thank credit cant use cause dont offer wheelch...</td>\n",
       "      <td>9</td>\n",
       "      <td>0</td>\n",
       "      <td>0</td>\n",
       "    </tr>\n",
       "    <tr>\n",
       "      <td>2</td>\n",
       "      <td>3</td>\n",
       "      <td>0</td>\n",
       "      <td>bihday your majesty</td>\n",
       "      <td>bihday majesty</td>\n",
       "      <td>2</td>\n",
       "      <td>0</td>\n",
       "      <td>0</td>\n",
       "    </tr>\n",
       "    <tr>\n",
       "      <td>3</td>\n",
       "      <td>4</td>\n",
       "      <td>0</td>\n",
       "      <td>#model   i love u take with u all the time in ...</td>\n",
       "      <td>love take time ur</td>\n",
       "      <td>2</td>\n",
       "      <td>1</td>\n",
       "      <td>0</td>\n",
       "    </tr>\n",
       "    <tr>\n",
       "      <td>4</td>\n",
       "      <td>5</td>\n",
       "      <td>0</td>\n",
       "      <td>factsguide: society now    #motivation</td>\n",
       "      <td>factsguide society</td>\n",
       "      <td>1</td>\n",
       "      <td>0</td>\n",
       "      <td>0</td>\n",
       "    </tr>\n",
       "  </tbody>\n",
       "</table>\n",
       "</div>"
      ],
      "text/plain": [
       "   id  label                                              tweet  \\\n",
       "0   1      0   @user when a father is dysfunctional and is s...   \n",
       "1   2      0  @user @user thanks for #lyft credit i can't us...   \n",
       "2   3      0                                bihday your majesty   \n",
       "3   4      0  #model   i love u take with u all the time in ...   \n",
       "4   5      0             factsguide: society now    #motivation   \n",
       "\n",
       "                                        cleaned_text  noun_count  verb_count  \\\n",
       "0  father dysfunctional selfish drag kid dysfunction           3           0   \n",
       "1  thank credit cant use cause dont offer wheelch...           9           0   \n",
       "2                                     bihday majesty           2           0   \n",
       "3                                love take time ur             2           1   \n",
       "4                                 factsguide society           1           0   \n",
       "\n",
       "   text_polarity  \n",
       "0              1  \n",
       "1              0  \n",
       "2              0  \n",
       "3              0  \n",
       "4              0  "
      ]
     },
     "execution_count": 342,
     "metadata": {},
     "output_type": "execute_result"
    }
   ],
   "source": [
    "from textblob import TextBlob\n",
    "\n",
    "# for text in data[\"cleaned_text\"][:1]:\n",
    "#     print(TextBlob(\"bihday majesty\").sentiment[0])\n",
    "# print(data[\"cleaned_text\"][:1])\n",
    "data[\"text_polarity\"] = data[\"cleaned_text\"].apply(lambda x :  0 if (TextBlob(x).sentiment[0])>=0 else 1)\n",
    "data.head()"
   ]
  },
  {
   "cell_type": "code",
   "execution_count": 343,
   "metadata": {},
   "outputs": [],
   "source": [
    "from sklearn.feature_extraction.text import CountVectorizer , TfidfVectorizer\n",
    "\n",
    "word_tfidf = TfidfVectorizer(max_features=2000)\n",
    "word_tfidf.fit(data[\"cleaned_text\"].values)\n",
    "\n",
    "\n",
    "#cvz = CountVectorizer()\n",
    "#cvz.fit(data[\"cleaned_text\"].values)\n",
    "\n",
    "#word_vectors_tfidf = cvz.transform(data[\"cleaned_text\"].values)\n",
    "\n",
    "word_vectors_tfidf = word_tfidf.transform(data[\"cleaned_text\"].values)"
   ]
  },
  {
   "cell_type": "code",
   "execution_count": 344,
   "metadata": {},
   "outputs": [],
   "source": [
    "# ngram_tfidf = TfidfVectorizer(ngram_range=(1,2))\n",
    "# ngram_tfidf.fit(data[\"cleaned_text\"].values)\n",
    "\n",
    "# ngram_tfidf = ngram_tfidf.transform(data[\"cleaned_text\"].values)"
   ]
  },
  {
   "cell_type": "code",
   "execution_count": 345,
   "metadata": {},
   "outputs": [
    {
     "data": {
      "text/plain": [
       "<31962x2003 sparse matrix of type '<class 'numpy.float64'>'\n",
       "\twith 172682 stored elements in Compressed Sparse Row format>"
      ]
     },
     "execution_count": 345,
     "metadata": {},
     "output_type": "execute_result"
    }
   ],
   "source": [
    "from scipy.sparse import hstack, csr_matrix\n",
    "\n",
    "meta_features = ['text_polarity','noun_count','verb_count']\n",
    "\n",
    "feature_set1 = data[meta_features]\n",
    "\n",
    "#train = hstack([word_vectors_tfidf],\"csr\")\n",
    "train = hstack([word_vectors_tfidf,csr_matrix(feature_set1)],\"csr\")\n",
    "train"
   ]
  },
  {
   "cell_type": "code",
   "execution_count": 346,
   "metadata": {},
   "outputs": [],
   "source": [
    "target = data[\"label\"].values"
   ]
  },
  {
   "cell_type": "code",
   "execution_count": 347,
   "metadata": {},
   "outputs": [
    {
     "data": {
      "text/plain": [
       "array([0, 0, 0, ..., 0, 1, 0])"
      ]
     },
     "execution_count": 347,
     "metadata": {},
     "output_type": "execute_result"
    }
   ],
   "source": [
    "target"
   ]
  },
  {
   "cell_type": "code",
   "execution_count": 348,
   "metadata": {},
   "outputs": [],
   "source": [
    "from sklearn.model_selection import train_test_split\n",
    "\n",
    "train_x, val_x, train_y, val_y = train_test_split(train, target)"
   ]
  },
  {
   "cell_type": "code",
   "execution_count": 349,
   "metadata": {},
   "outputs": [
    {
     "data": {
      "text/plain": [
       "(23971, 2002)"
      ]
     },
     "execution_count": 349,
     "metadata": {},
     "output_type": "execute_result"
    }
   ],
   "source": [
    "train_x.shape"
   ]
  },
  {
   "cell_type": "code",
   "execution_count": 350,
   "metadata": {},
   "outputs": [
    {
     "data": {
      "text/plain": [
       "(7991, 2002)"
      ]
     },
     "execution_count": 350,
     "metadata": {},
     "output_type": "execute_result"
    }
   ],
   "source": [
    "val_x.shape"
   ]
  },
  {
   "cell_type": "code",
   "execution_count": 351,
   "metadata": {},
   "outputs": [],
   "source": [
    "from sklearn import naive_bayes\n",
    "from sklearn.linear_model import LogisticRegression\n",
    "from sklearn import svm\n",
    "from sklearn import ensemble\n",
    "from sklearn.metrics import accuracy_score,f1_score,confusion_matrix"
   ]
  },
  {
   "cell_type": "code",
   "execution_count": 352,
   "metadata": {},
   "outputs": [],
   "source": [
    "# model = naive_bayes.MultinomialNB()\n",
    "# model.fit(train_x,train_y)\n",
    "# preds = model.predict(val_x)\n",
    "# print(accuracy_score(preds,val_y))\n",
    "# print(f1_score(val_y, preds, average=\"macro\"))\n",
    "# CM = confusion_matrix(val_y, preds)\n",
    "# TN = CM[0][0]\n",
    "# print(TN)\n",
    "# FN = CM[1][0]\n",
    "# print(FN)\n",
    "# TP = CM[1][1]\n",
    "# print(TP)\n",
    "# FP = CM[0][1]\n",
    "# print(FP)"
   ]
  },
  {
   "cell_type": "code",
   "execution_count": 353,
   "metadata": {},
   "outputs": [],
   "source": [
    "# model = LogisticRegression()\n",
    "# model.fit(train_x,train_y)\n",
    "# preds = model.predict(val_x)\n",
    "# print(accuracy_score(preds,val_y))\n",
    "# print(f1_score(val_y, preds, average=\"macro\"))\n",
    "# CM = confusion_matrix(val_y, preds)\n",
    "# TN = CM[0][0]\n",
    "# print(TN)\n",
    "# FN = CM[1][0]\n",
    "# print(FN)\n",
    "# TP = CM[1][1]\n",
    "# print(TP)\n",
    "# FP = CM[0][1]\n",
    "# print(FP)\n"
   ]
  },
  {
   "cell_type": "code",
   "execution_count": 354,
   "metadata": {},
   "outputs": [],
   "source": [
    "model = ensemble.ExtraTreesClassifier()\n",
    "model.fit(train_x,train_y)\n",
    "preds = model.predict(val_x)\n",
    "print(accuracy_score(preds,val_y))\n",
    "print(f1_score(val_y, preds, average=\"macro\"))\n",
    "CM = confusion_matrix(val_y, preds)\n",
    "TN = CM[0][0]\n",
    "print(TN)\n",
    "FN = CM[1][0]\n",
    "print(FN)\n",
    "TP = CM[1][1]\n",
    "print(TP)\n",
    "FP = CM[0][1]\n",
    "print(FP)"
   ]
  },
  {
   "cell_type": "code",
   "execution_count": 355,
   "metadata": {},
   "outputs": [
    {
     "name": "stderr",
     "output_type": "stream",
     "text": [
      "/Users/suryavikram/opt/anaconda3/lib/python3.7/site-packages/sklearn/ensemble/forest.py:245: FutureWarning: The default value of n_estimators will change from 10 in version 0.20 to 100 in 0.22.\n",
      "  \"10 in version 0.20 to 100 in 0.22.\", FutureWarning)\n"
     ]
    },
    {
     "data": {
      "text/plain": [
       "ExtraTreesClassifier(bootstrap=False, class_weight=None, criterion='gini',\n",
       "                     max_depth=None, max_features='auto', max_leaf_nodes=None,\n",
       "                     min_impurity_decrease=0.0, min_impurity_split=None,\n",
       "                     min_samples_leaf=1, min_samples_split=2,\n",
       "                     min_weight_fraction_leaf=0.0, n_estimators=10, n_jobs=None,\n",
       "                     oob_score=False, random_state=None, verbose=0,\n",
       "                     warm_start=False)"
      ]
     },
     "execution_count": 355,
     "metadata": {},
     "output_type": "execute_result"
    }
   ],
   "source": [
    "# model = ensemble.ExtraTreesClassifier()\n",
    "# model.fit(train,target)"
   ]
  },
  {
   "cell_type": "code",
   "execution_count": null,
   "metadata": {},
   "outputs": [],
   "source": []
  },
  {
   "cell_type": "code",
   "execution_count": 356,
   "metadata": {},
   "outputs": [],
   "source": [
    "testdata = pd.read_csv(\"test.csv\",encoding=\"latin-1\")"
   ]
  },
  {
   "cell_type": "code",
   "execution_count": 357,
   "metadata": {},
   "outputs": [
    {
     "data": {
      "text/html": [
       "<div>\n",
       "<style scoped>\n",
       "    .dataframe tbody tr th:only-of-type {\n",
       "        vertical-align: middle;\n",
       "    }\n",
       "\n",
       "    .dataframe tbody tr th {\n",
       "        vertical-align: top;\n",
       "    }\n",
       "\n",
       "    .dataframe thead th {\n",
       "        text-align: right;\n",
       "    }\n",
       "</style>\n",
       "<table border=\"1\" class=\"dataframe\">\n",
       "  <thead>\n",
       "    <tr style=\"text-align: right;\">\n",
       "      <th></th>\n",
       "      <th>id</th>\n",
       "      <th>tweet</th>\n",
       "    </tr>\n",
       "  </thead>\n",
       "  <tbody>\n",
       "    <tr>\n",
       "      <td>0</td>\n",
       "      <td>31963</td>\n",
       "      <td>#studiolife #aislife #requires #passion #dedic...</td>\n",
       "    </tr>\n",
       "    <tr>\n",
       "      <td>1</td>\n",
       "      <td>31964</td>\n",
       "      <td>@user #white #supremacists want everyone to s...</td>\n",
       "    </tr>\n",
       "    <tr>\n",
       "      <td>2</td>\n",
       "      <td>31965</td>\n",
       "      <td>safe ways to heal your #acne!!    #altwaystohe...</td>\n",
       "    </tr>\n",
       "    <tr>\n",
       "      <td>3</td>\n",
       "      <td>31966</td>\n",
       "      <td>is the hp and the cursed child book up for res...</td>\n",
       "    </tr>\n",
       "    <tr>\n",
       "      <td>4</td>\n",
       "      <td>31967</td>\n",
       "      <td>3rd #bihday to my amazing, hilarious #nephew...</td>\n",
       "    </tr>\n",
       "  </tbody>\n",
       "</table>\n",
       "</div>"
      ],
      "text/plain": [
       "      id                                              tweet\n",
       "0  31963  #studiolife #aislife #requires #passion #dedic...\n",
       "1  31964   @user #white #supremacists want everyone to s...\n",
       "2  31965  safe ways to heal your #acne!!    #altwaystohe...\n",
       "3  31966  is the hp and the cursed child book up for res...\n",
       "4  31967    3rd #bihday to my amazing, hilarious #nephew..."
      ]
     },
     "execution_count": 357,
     "metadata": {},
     "output_type": "execute_result"
    }
   ],
   "source": [
    "testdata.head()"
   ]
  },
  {
   "cell_type": "code",
   "execution_count": 358,
   "metadata": {},
   "outputs": [
    {
     "data": {
      "text/html": [
       "<div>\n",
       "<style scoped>\n",
       "    .dataframe tbody tr th:only-of-type {\n",
       "        vertical-align: middle;\n",
       "    }\n",
       "\n",
       "    .dataframe tbody tr th {\n",
       "        vertical-align: top;\n",
       "    }\n",
       "\n",
       "    .dataframe thead th {\n",
       "        text-align: right;\n",
       "    }\n",
       "</style>\n",
       "<table border=\"1\" class=\"dataframe\">\n",
       "  <thead>\n",
       "    <tr style=\"text-align: right;\">\n",
       "      <th></th>\n",
       "      <th>id</th>\n",
       "      <th>tweet</th>\n",
       "      <th>cleaned_text</th>\n",
       "      <th>text_polarity</th>\n",
       "      <th>noun_count</th>\n",
       "      <th>verb_count</th>\n",
       "    </tr>\n",
       "  </thead>\n",
       "  <tbody>\n",
       "    <tr>\n",
       "      <td>0</td>\n",
       "      <td>31963</td>\n",
       "      <td>#studiolife #aislife #requires #passion #dedic...</td>\n",
       "      <td>find</td>\n",
       "      <td>0</td>\n",
       "      <td>0</td>\n",
       "      <td>1</td>\n",
       "    </tr>\n",
       "    <tr>\n",
       "      <td>1</td>\n",
       "      <td>31964</td>\n",
       "      <td>@user #white #supremacists want everyone to s...</td>\n",
       "      <td>want everyone see new    heres</td>\n",
       "      <td>0</td>\n",
       "      <td>2</td>\n",
       "      <td>2</td>\n",
       "    </tr>\n",
       "    <tr>\n",
       "      <td>2</td>\n",
       "      <td>31965</td>\n",
       "      <td>safe ways to heal your #acne!!    #altwaystohe...</td>\n",
       "      <td>safe way heal</td>\n",
       "      <td>0</td>\n",
       "      <td>2</td>\n",
       "      <td>0</td>\n",
       "    </tr>\n",
       "    <tr>\n",
       "      <td>3</td>\n",
       "      <td>31966</td>\n",
       "      <td>is the hp and the cursed child book up for res...</td>\n",
       "      <td>curse child book reservation already yes</td>\n",
       "      <td>0</td>\n",
       "      <td>4</td>\n",
       "      <td>0</td>\n",
       "    </tr>\n",
       "    <tr>\n",
       "      <td>4</td>\n",
       "      <td>31967</td>\n",
       "      <td>3rd #bihday to my amazing, hilarious #nephew...</td>\n",
       "      <td>rd amaze hilarious eli ahmir uncle dave love m...</td>\n",
       "      <td>0</td>\n",
       "      <td>5</td>\n",
       "      <td>0</td>\n",
       "    </tr>\n",
       "  </tbody>\n",
       "</table>\n",
       "</div>"
      ],
      "text/plain": [
       "      id                                              tweet  \\\n",
       "0  31963  #studiolife #aislife #requires #passion #dedic...   \n",
       "1  31964   @user #white #supremacists want everyone to s...   \n",
       "2  31965  safe ways to heal your #acne!!    #altwaystohe...   \n",
       "3  31966  is the hp and the cursed child book up for res...   \n",
       "4  31967    3rd #bihday to my amazing, hilarious #nephew...   \n",
       "\n",
       "                                        cleaned_text  text_polarity  \\\n",
       "0                                              find               0   \n",
       "1                     want everyone see new    heres              0   \n",
       "2                                      safe way heal              0   \n",
       "3          curse child book reservation already yes               0   \n",
       "4  rd amaze hilarious eli ahmir uncle dave love m...              0   \n",
       "\n",
       "   noun_count  verb_count  \n",
       "0           0           1  \n",
       "1           2           2  \n",
       "2           2           0  \n",
       "3           4           0  \n",
       "4           5           0  "
      ]
     },
     "execution_count": 358,
     "metadata": {},
     "output_type": "execute_result"
    }
   ],
   "source": [
    "testdata[\"cleaned_text\"] = testdata[\"tweet\"].apply(_clean)\n",
    "testdata[\"cleaned_text\"] = testdata[\"cleaned_text\"].apply(remove_non_ascii)\n",
    "testdata[\"text_polarity\"] = testdata[\"cleaned_text\"].apply(lambda x :  0 if (TextBlob(x).sentiment[0])>=0 else 1)\n",
    "testdata[\"noun_count\"] = testdata[\"cleaned_text\"].apply(lambda x : pos_check(x,\"noun\"))\n",
    "testdata[\"verb_count\"] = testdata[\"cleaned_text\"].apply(lambda x : pos_check(x,\"verb\"))\n",
    "testdata.head()"
   ]
  },
  {
   "cell_type": "code",
   "execution_count": 359,
   "metadata": {},
   "outputs": [
    {
     "data": {
      "text/plain": [
       "0    15155\n",
       "1     2042\n",
       "Name: text_polarity, dtype: int64"
      ]
     },
     "execution_count": 359,
     "metadata": {},
     "output_type": "execute_result"
    }
   ],
   "source": [
    "testdata[\"text_polarity\"].value_counts()"
   ]
  },
  {
   "cell_type": "code",
   "execution_count": 360,
   "metadata": {},
   "outputs": [],
   "source": [
    "word_vectors_tfidf_test = word_tfidf.transform(testdata[\"cleaned_text\"].values)\n",
    "#word_vectors_tfidf_test = cvz.transform(testdata[\"cleaned_text\"].values)\n",
    "#ngram_tfidf_test = word_tfidf.transform(testdata[\"cleaned_text\"].values)\n",
    "\n",
    "meta_features = ['text_polarity','noun_count','verb_count']\n",
    "\n",
    "feature_set1 = testdata[meta_features]\n"
   ]
  },
  {
   "cell_type": "code",
   "execution_count": 361,
   "metadata": {},
   "outputs": [],
   "source": [
    "#r_test = hstack([word_vectors_tfidf_test],\"csr\")\n",
    "r_test = hstack([word_vectors_tfidf_test,csr_matrix(feature_set1)],\"csr\")"
   ]
  },
  {
   "cell_type": "code",
   "execution_count": 362,
   "metadata": {},
   "outputs": [],
   "source": [
    "r_preds = model.predict(r_test)"
   ]
  },
  {
   "cell_type": "code",
   "execution_count": 363,
   "metadata": {},
   "outputs": [
    {
     "data": {
      "text/plain": [
       "17197"
      ]
     },
     "execution_count": 363,
     "metadata": {},
     "output_type": "execute_result"
    }
   ],
   "source": [
    "len(r_preds)"
   ]
  },
  {
   "cell_type": "code",
   "execution_count": 364,
   "metadata": {},
   "outputs": [
    {
     "data": {
      "text/html": [
       "<div>\n",
       "<style scoped>\n",
       "    .dataframe tbody tr th:only-of-type {\n",
       "        vertical-align: middle;\n",
       "    }\n",
       "\n",
       "    .dataframe tbody tr th {\n",
       "        vertical-align: top;\n",
       "    }\n",
       "\n",
       "    .dataframe thead th {\n",
       "        text-align: right;\n",
       "    }\n",
       "</style>\n",
       "<table border=\"1\" class=\"dataframe\">\n",
       "  <thead>\n",
       "    <tr style=\"text-align: right;\">\n",
       "      <th></th>\n",
       "      <th>id</th>\n",
       "      <th>label</th>\n",
       "    </tr>\n",
       "  </thead>\n",
       "  <tbody>\n",
       "    <tr>\n",
       "      <td>0</td>\n",
       "      <td>31963</td>\n",
       "      <td>0</td>\n",
       "    </tr>\n",
       "    <tr>\n",
       "      <td>1</td>\n",
       "      <td>31964</td>\n",
       "      <td>0</td>\n",
       "    </tr>\n",
       "    <tr>\n",
       "      <td>2</td>\n",
       "      <td>31965</td>\n",
       "      <td>0</td>\n",
       "    </tr>\n",
       "    <tr>\n",
       "      <td>3</td>\n",
       "      <td>31966</td>\n",
       "      <td>0</td>\n",
       "    </tr>\n",
       "    <tr>\n",
       "      <td>4</td>\n",
       "      <td>31967</td>\n",
       "      <td>0</td>\n",
       "    </tr>\n",
       "  </tbody>\n",
       "</table>\n",
       "</div>"
      ],
      "text/plain": [
       "      id  label\n",
       "0  31963      0\n",
       "1  31964      0\n",
       "2  31965      0\n",
       "3  31966      0\n",
       "4  31967      0"
      ]
     },
     "execution_count": 364,
     "metadata": {},
     "output_type": "execute_result"
    }
   ],
   "source": [
    "# Creating an empty data frame\n",
    "submission = pd.DataFrame()\n",
    "# Assigning values to the data frame-submission_kaggle\n",
    "submission['id'] = testdata.id\n",
    "submission['label'] = r_preds\n",
    "submission.head()"
   ]
  },
  {
   "cell_type": "code",
   "execution_count": 365,
   "metadata": {},
   "outputs": [
    {
     "data": {
      "text/plain": [
       "0    16490\n",
       "1      707\n",
       "Name: label, dtype: int64"
      ]
     },
     "execution_count": 365,
     "metadata": {},
     "output_type": "execute_result"
    }
   ],
   "source": [
    "submission[\"label\"].value_counts()"
   ]
  },
  {
   "cell_type": "code",
   "execution_count": 366,
   "metadata": {},
   "outputs": [],
   "source": [
    "# saving data as  final_kaggle.csv\n",
    "submission.to_csv('submission.csv',index=False)"
   ]
  },
  {
   "cell_type": "code",
   "execution_count": null,
   "metadata": {},
   "outputs": [],
   "source": []
  }
 ],
 "metadata": {
  "kernelspec": {
   "display_name": "Python 3",
   "language": "python",
   "name": "python3"
  },
  "language_info": {
   "codemirror_mode": {
    "name": "ipython",
    "version": 3
   },
   "file_extension": ".py",
   "mimetype": "text/x-python",
   "name": "python",
   "nbconvert_exporter": "python",
   "pygments_lexer": "ipython3",
   "version": "3.7.4"
  }
 },
 "nbformat": 4,
 "nbformat_minor": 2
}
