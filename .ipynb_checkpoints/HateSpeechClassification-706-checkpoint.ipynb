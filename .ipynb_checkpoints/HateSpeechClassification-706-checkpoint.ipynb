{
 "cells": [
  {
   "cell_type": "code",
   "execution_count": 27,
   "metadata": {},
   "outputs": [],
   "source": [
    "import pandas as pd\n",
    "import numpy as np\n",
    "from sklearn.feature_extraction.text import  TfidfVectorizer\n",
    "from scipy.sparse import hstack, csr_matrix\n",
    "from sklearn.linear_model import LogisticRegression\n",
    "from sklearn import ensemble\n",
    "from sklearn.model_selection import cross_val_score\n",
    "\n",
    "train = pd.read_csv(\"train.csv\",encoding=\"latin-1\")\n",
    "test = pd.read_csv(\"test.csv\",encoding=\"latin-1\")"
   ]
  },
  {
   "cell_type": "code",
   "execution_count": 28,
   "metadata": {},
   "outputs": [
    {
     "data": {
      "text/plain": [
       "(31962, 3)"
      ]
     },
     "execution_count": 28,
     "metadata": {},
     "output_type": "execute_result"
    }
   ],
   "source": [
    "train.shape"
   ]
  },
  {
   "cell_type": "code",
   "execution_count": 29,
   "metadata": {},
   "outputs": [],
   "source": [
    "from nltk.corpus import stopwords\n",
    "import string\n",
    "import re\n",
    "punctuation = string.punctuation\n",
    "stopwords = stopwords.words(\"english\")\n",
    "from nltk.stem.wordnet import WordNetLemmatizer\n",
    "\n",
    "lem = WordNetLemmatizer()\n",
    "\n",
    "def _clean(text):\n",
    "    text = text.lower()\n",
    "    text = re.sub(r\"amp\", \"\", text)\n",
    "    #text = re.sub(r\"#\\w+\",\"\",text)\n",
    "    text = re.sub(r\"@\\w+\",\"\",text)\n",
    "    text = \"\".join(x for x in text if x not in punctuation)\n",
    "    \n",
    "    words = text.split()\n",
    "    #words = [\" \" if w.startswith(\"@\") else w for w in words ]\n",
    "    #words = [w for w in words if w != \"user\" ]\n",
    "    #words = [w for w in words if w != \"amp\" ]\n",
    "    \n",
    "    #words = [w for w in words if w not in stopwords]\n",
    "    words = [lem.lemmatize(word,\"v\") for word in words]\n",
    "    #words = [lem.lemmatize(word,\"n\") for word in words]\n",
    "    words = [w for w in words if len(w) >2]\n",
    "    \n",
    "    \n",
    "    \n",
    "    text = \" \".join(words)\n",
    "    return text\n",
    "\n",
    "def remove_non_ascii(text):\n",
    "    L = [32, 44, 46, 65,66,67,68,69,70,71,72,73,74,75,76,77,78,79,80,81,82,83,84,85,86,87,88,89,90,97,98,99,100,101,102,103, 104,105,106,107,108,109,110,111,112,113,114,115,116,117,118,119,120,121,122]\n",
    "    text = str(text)\n",
    "\n",
    "    return ''.join(i for i in text if ord(i) in L)"
   ]
  },
  {
   "cell_type": "code",
   "execution_count": 30,
   "metadata": {},
   "outputs": [],
   "source": [
    "train[\"tweet\"] = train[\"tweet\"].apply(_clean)\n",
    "train[\"tweet\"] = train[\"tweet\"].apply(remove_non_ascii)\n",
    "\n",
    "test[\"tweet\"] = test[\"tweet\"].apply(_clean)\n",
    "test[\"tweet\"] = test[\"tweet\"].apply(remove_non_ascii)"
   ]
  },
  {
   "cell_type": "code",
   "execution_count": 31,
   "metadata": {},
   "outputs": [],
   "source": [
    "#train['tweet'] = train['tweet'].str.replace('\\d+', '')\n",
    "#test['tweet'] = test['tweet'].str.replace('\\d+', '')\n",
    "train_text = train['tweet']\n",
    "test_text = test['tweet']\n",
    "all_text = pd.concat([train_text, test_text])\n",
    "\n",
    "word_vectorizer = TfidfVectorizer(\n",
    "    sublinear_tf=True,\n",
    "    strip_accents='unicode',\n",
    "    analyzer='word',\n",
    "    token_pattern=r'\\w{2,}',\n",
    "    stop_words='english',\n",
    "    ngram_range=(1, 2),\n",
    "    max_features=20000)\n",
    "word_vectorizer.fit(all_text)\n",
    "train_word_features = word_vectorizer.transform(train_text)\n",
    "test_word_features = word_vectorizer.transform(test_text)\n",
    "\n",
    "char_vectorizer = TfidfVectorizer(\n",
    "    sublinear_tf=True,\n",
    "    strip_accents='unicode',\n",
    "    analyzer='char',\n",
    "    stop_words='english',\n",
    "    ngram_range=(2, 6),\n",
    "    max_features=100000)\n",
    "char_vectorizer.fit(all_text)\n",
    "train_char_features = char_vectorizer.transform(train_text)\n",
    "test_char_features = char_vectorizer.transform(test_text)\n",
    "\n",
    "train_features = hstack([train_char_features, train_word_features])\n",
    "test_features = hstack([test_char_features, test_word_features])"
   ]
  },
  {
   "cell_type": "code",
   "execution_count": 32,
   "metadata": {},
   "outputs": [
    {
     "data": {
      "text/html": [
       "<div>\n",
       "<style scoped>\n",
       "    .dataframe tbody tr th:only-of-type {\n",
       "        vertical-align: middle;\n",
       "    }\n",
       "\n",
       "    .dataframe tbody tr th {\n",
       "        vertical-align: top;\n",
       "    }\n",
       "\n",
       "    .dataframe thead th {\n",
       "        text-align: right;\n",
       "    }\n",
       "</style>\n",
       "<table border=\"1\" class=\"dataframe\">\n",
       "  <thead>\n",
       "    <tr style=\"text-align: right;\">\n",
       "      <th></th>\n",
       "      <th>word_tfidf</th>\n",
       "    </tr>\n",
       "  </thead>\n",
       "  <tbody>\n",
       "    <tr>\n",
       "      <td>aaa</td>\n",
       "      <td>10.416541</td>\n",
       "    </tr>\n",
       "    <tr>\n",
       "      <td>aap</td>\n",
       "      <td>8.306328</td>\n",
       "    </tr>\n",
       "    <tr>\n",
       "      <td>aap congress</td>\n",
       "      <td>10.011076</td>\n",
       "    </tr>\n",
       "    <tr>\n",
       "      <td>aap spokesperson</td>\n",
       "      <td>9.605611</td>\n",
       "    </tr>\n",
       "    <tr>\n",
       "      <td>aaps</td>\n",
       "      <td>10.193398</td>\n",
       "    </tr>\n",
       "    <tr>\n",
       "      <td>...</td>\n",
       "      <td>...</td>\n",
       "    </tr>\n",
       "    <tr>\n",
       "      <td>zoo</td>\n",
       "      <td>9.094785</td>\n",
       "    </tr>\n",
       "    <tr>\n",
       "      <td>zootopia</td>\n",
       "      <td>9.856925</td>\n",
       "    </tr>\n",
       "    <tr>\n",
       "      <td>zoro</td>\n",
       "      <td>10.193398</td>\n",
       "    </tr>\n",
       "    <tr>\n",
       "      <td>zoro jrock</td>\n",
       "      <td>10.193398</td>\n",
       "    </tr>\n",
       "    <tr>\n",
       "      <td>zumba</td>\n",
       "      <td>10.011076</td>\n",
       "    </tr>\n",
       "  </tbody>\n",
       "</table>\n",
       "<p>20000 rows × 1 columns</p>\n",
       "</div>"
      ],
      "text/plain": [
       "                  word_tfidf\n",
       "aaa                10.416541\n",
       "aap                 8.306328\n",
       "aap congress       10.011076\n",
       "aap spokesperson    9.605611\n",
       "aaps               10.193398\n",
       "...                      ...\n",
       "zoo                 9.094785\n",
       "zootopia            9.856925\n",
       "zoro               10.193398\n",
       "zoro jrock         10.193398\n",
       "zumba              10.011076\n",
       "\n",
       "[20000 rows x 1 columns]"
      ]
     },
     "execution_count": 32,
     "metadata": {},
     "output_type": "execute_result"
    }
   ],
   "source": [
    "tfidf = dict(zip(word_vectorizer.get_feature_names(),word_vectorizer.idf_))\n",
    "tfidf_idf = pd.DataFrame(columns=[\"word_tfidf\"]).from_dict(tfidf,orient=\"index\")\n",
    "tfidf_idf.columns = [\"word_tfidf\"]\n",
    "tfidf_idf"
   ]
  },
  {
   "cell_type": "code",
   "execution_count": 33,
   "metadata": {},
   "outputs": [
    {
     "data": {
      "text/html": [
       "<div>\n",
       "<style scoped>\n",
       "    .dataframe tbody tr th:only-of-type {\n",
       "        vertical-align: middle;\n",
       "    }\n",
       "\n",
       "    .dataframe tbody tr th {\n",
       "        vertical-align: top;\n",
       "    }\n",
       "\n",
       "    .dataframe thead th {\n",
       "        text-align: right;\n",
       "    }\n",
       "</style>\n",
       "<table border=\"1\" class=\"dataframe\">\n",
       "  <thead>\n",
       "    <tr style=\"text-align: right;\">\n",
       "      <th></th>\n",
       "      <th>word_tfidf</th>\n",
       "    </tr>\n",
       "  </thead>\n",
       "  <tbody>\n",
       "    <tr>\n",
       "      <td>a</td>\n",
       "      <td>1.856863</td>\n",
       "    </tr>\n",
       "    <tr>\n",
       "      <td>aa</td>\n",
       "      <td>7.512376</td>\n",
       "    </tr>\n",
       "    <tr>\n",
       "      <td>aap</td>\n",
       "      <td>8.219317</td>\n",
       "    </tr>\n",
       "    <tr>\n",
       "      <td>aap</td>\n",
       "      <td>8.912464</td>\n",
       "    </tr>\n",
       "    <tr>\n",
       "      <td>ab</td>\n",
       "      <td>4.349853</td>\n",
       "    </tr>\n",
       "    <tr>\n",
       "      <td>...</td>\n",
       "      <td>...</td>\n",
       "    </tr>\n",
       "    <tr>\n",
       "      <td>zzle</td>\n",
       "      <td>8.758313</td>\n",
       "    </tr>\n",
       "    <tr>\n",
       "      <td>zzy</td>\n",
       "      <td>8.912464</td>\n",
       "    </tr>\n",
       "    <tr>\n",
       "      <td>zzy</td>\n",
       "      <td>9.237886</td>\n",
       "    </tr>\n",
       "    <tr>\n",
       "      <td>zzz</td>\n",
       "      <td>9.317929</td>\n",
       "    </tr>\n",
       "    <tr>\n",
       "      <td>zzzz</td>\n",
       "      <td>9.723394</td>\n",
       "    </tr>\n",
       "  </tbody>\n",
       "</table>\n",
       "<p>100000 rows × 1 columns</p>\n",
       "</div>"
      ],
      "text/plain": [
       "       word_tfidf\n",
       " a       1.856863\n",
       " aa      7.512376\n",
       " aap     8.219317\n",
       " aap     8.912464\n",
       " ab      4.349853\n",
       "...           ...\n",
       "zzle     8.758313\n",
       "zzy      8.912464\n",
       "zzy      9.237886\n",
       "zzz      9.317929\n",
       "zzzz     9.723394\n",
       "\n",
       "[100000 rows x 1 columns]"
      ]
     },
     "execution_count": 33,
     "metadata": {},
     "output_type": "execute_result"
    }
   ],
   "source": [
    "tfidf = dict(zip(char_vectorizer.get_feature_names(),char_vectorizer.idf_))\n",
    "tfidf_idf = pd.DataFrame(columns=[\"word_tfidf\"]).from_dict(tfidf,orient=\"index\")\n",
    "tfidf_idf.columns = [\"word_tfidf\"]\n",
    "tfidf_idf"
   ]
  },
  {
   "cell_type": "code",
   "execution_count": 34,
   "metadata": {},
   "outputs": [],
   "source": [
    "# scores = []\n",
    "# submission = pd.DataFrame.from_dict({'id': test['id']})\n",
    "# train_target = train['label']\n",
    "# classifier = LogisticRegression(C=0.1, solver='sag')\n",
    "\n",
    "# cv_score = np.mean(cross_val_score(classifier, train_features, train_target, cv=3, scoring='roc_auc'))\n",
    "# scores.append(cv_score)\n",
    "# print('CV score for class {} is {}'.format(\"label\", cv_score))\n",
    "\n",
    "# classifier.fit(train_features, train_target)\n",
    "\n",
    "# submission['label'] = classifier.predict_proba(test_features)[:, 1]\n",
    "\n",
    "\n",
    "#submission.to_csv('submission.csv', index=False)"
   ]
  },
  {
   "cell_type": "code",
   "execution_count": 35,
   "metadata": {},
   "outputs": [
    {
     "name": "stdout",
     "output_type": "stream",
     "text": [
      "0.9594543861844576\n",
      "0.7907888000248233\n",
      "7421\n",
      "308\n",
      "246\n",
      "16\n"
     ]
    }
   ],
   "source": [
    "train_target = train['label']\n",
    "# model = LogisticRegression()\n",
    "# model.fit(train_features,train_target)\n",
    "# preds = model.predict(test_features)\n",
    "\n",
    "from sklearn.model_selection import train_test_split\n",
    "from sklearn.metrics import accuracy_score, f1_score, confusion_matrix\n",
    "\n",
    "train_x, val_x, train_y, val_y = train_test_split(train_features,train_target)\n",
    "\n",
    "model = LogisticRegression(solver='newton-cg')\n",
    "model.fit(train_x,train_y)\n",
    "preds = model.predict(val_x)\n",
    "print(accuracy_score(preds,val_y))\n",
    "print(f1_score(val_y, preds, average=\"macro\"))\n",
    "CM = confusion_matrix(val_y, preds)\n",
    "TN = CM[0][0]\n",
    "print(TN)\n",
    "FN = CM[1][0]\n",
    "print(FN)\n",
    "TP = CM[1][1]\n",
    "print(TP)\n",
    "FP = CM[0][1]\n",
    "print(FP)\n"
   ]
  },
  {
   "cell_type": "code",
   "execution_count": 36,
   "metadata": {},
   "outputs": [
    {
     "name": "stdout",
     "output_type": "stream",
     "text": [
      "0.9678388186710049\n",
      "0.8504199041478094\n",
      "7407\n",
      "227\n",
      "327\n",
      "30\n"
     ]
    }
   ],
   "source": [
    "# model = ensemble.ExtraTreesClassifier()\n",
    "# model.fit(train_features,train_target)\n",
    "# preds = model.predict(test_features)\n",
    "\n",
    "model = ensemble.ExtraTreesClassifier(n_estimators=100)\n",
    "model.fit(train_x,train_y)\n",
    "preds = model.predict(val_x)\n",
    "print(accuracy_score(preds,val_y))\n",
    "print(f1_score(val_y, preds, average=\"macro\"))\n",
    "CM = confusion_matrix(val_y, preds)\n",
    "TN = CM[0][0]\n",
    "print(TN)\n",
    "FN = CM[1][0]\n",
    "print(FN)\n",
    "TP = CM[1][1]\n",
    "print(TP)\n",
    "FP = CM[0][1]\n",
    "print(FP)"
   ]
  },
  {
   "cell_type": "code",
   "execution_count": 37,
   "metadata": {},
   "outputs": [
    {
     "data": {
      "text/html": [
       "<div>\n",
       "<style scoped>\n",
       "    .dataframe tbody tr th:only-of-type {\n",
       "        vertical-align: middle;\n",
       "    }\n",
       "\n",
       "    .dataframe tbody tr th {\n",
       "        vertical-align: top;\n",
       "    }\n",
       "\n",
       "    .dataframe thead th {\n",
       "        text-align: right;\n",
       "    }\n",
       "</style>\n",
       "<table border=\"1\" class=\"dataframe\">\n",
       "  <thead>\n",
       "    <tr style=\"text-align: right;\">\n",
       "      <th></th>\n",
       "      <th>id</th>\n",
       "      <th>label</th>\n",
       "    </tr>\n",
       "  </thead>\n",
       "  <tbody>\n",
       "    <tr>\n",
       "      <td>0</td>\n",
       "      <td>31963</td>\n",
       "      <td>0</td>\n",
       "    </tr>\n",
       "    <tr>\n",
       "      <td>1</td>\n",
       "      <td>31964</td>\n",
       "      <td>1</td>\n",
       "    </tr>\n",
       "    <tr>\n",
       "      <td>2</td>\n",
       "      <td>31965</td>\n",
       "      <td>0</td>\n",
       "    </tr>\n",
       "    <tr>\n",
       "      <td>3</td>\n",
       "      <td>31966</td>\n",
       "      <td>0</td>\n",
       "    </tr>\n",
       "    <tr>\n",
       "      <td>4</td>\n",
       "      <td>31967</td>\n",
       "      <td>0</td>\n",
       "    </tr>\n",
       "  </tbody>\n",
       "</table>\n",
       "</div>"
      ],
      "text/plain": [
       "      id  label\n",
       "0  31963      0\n",
       "1  31964      1\n",
       "2  31965      0\n",
       "3  31966      0\n",
       "4  31967      0"
      ]
     },
     "execution_count": 37,
     "metadata": {},
     "output_type": "execute_result"
    }
   ],
   "source": [
    "# Creating an empty data frame\n",
    "submission = pd.DataFrame()\n",
    "preds = model.predict(test_features)\n",
    "# Assigning values to the data frame-submission_kaggle\n",
    "submission['id'] = test.id\n",
    "submission['label'] = preds\n",
    "submission.head()"
   ]
  },
  {
   "cell_type": "code",
   "execution_count": 38,
   "metadata": {},
   "outputs": [
    {
     "data": {
      "text/plain": [
       "0    16394\n",
       "1      803\n",
       "Name: label, dtype: int64"
      ]
     },
     "execution_count": 38,
     "metadata": {},
     "output_type": "execute_result"
    }
   ],
   "source": [
    "submission['label'].value_counts()"
   ]
  },
  {
   "cell_type": "code",
   "execution_count": 39,
   "metadata": {},
   "outputs": [],
   "source": [
    "# saving data as  final_kaggle.csv\n",
    "submission.to_csv('submission.csv',index=False)"
   ]
  },
  {
   "cell_type": "code",
   "execution_count": null,
   "metadata": {},
   "outputs": [],
   "source": []
  }
 ],
 "metadata": {
  "kernelspec": {
   "display_name": "Python 3",
   "language": "python",
   "name": "python3"
  },
  "language_info": {
   "codemirror_mode": {
    "name": "ipython",
    "version": 3
   },
   "file_extension": ".py",
   "mimetype": "text/x-python",
   "name": "python",
   "nbconvert_exporter": "python",
   "pygments_lexer": "ipython3",
   "version": "3.7.4"
  }
 },
 "nbformat": 4,
 "nbformat_minor": 2
}
