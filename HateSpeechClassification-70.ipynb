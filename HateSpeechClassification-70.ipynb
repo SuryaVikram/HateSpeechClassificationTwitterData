{
 "cells": [
  {
   "cell_type": "code",
   "execution_count": 463,
   "metadata": {},
   "outputs": [],
   "source": [
    "import pandas as pd\n",
    "import numpy as np\n",
    "from sklearn.feature_extraction.text import  TfidfVectorizer\n",
    "from scipy.sparse import hstack, csr_matrix\n",
    "from sklearn.linear_model import LogisticRegression\n",
    "from sklearn import ensemble\n",
    "from sklearn.model_selection import cross_val_score\n",
    "\n",
    "train = pd.read_csv(\"train.csv\",encoding=\"latin-1\")\n",
    "test = pd.read_csv(\"test.csv\",encoding=\"latin-1\")"
   ]
  },
  {
   "cell_type": "code",
   "execution_count": 464,
   "metadata": {},
   "outputs": [
    {
     "data": {
      "text/plain": [
       "(31962, 3)"
      ]
     },
     "execution_count": 464,
     "metadata": {},
     "output_type": "execute_result"
    }
   ],
   "source": [
    "train.shape"
   ]
  },
  {
   "cell_type": "code",
   "execution_count": 465,
   "metadata": {},
   "outputs": [],
   "source": [
    "from nltk.corpus import stopwords\n",
    "import string\n",
    "import re\n",
    "punctuation = string.punctuation\n",
    "stopwords = stopwords.words(\"english\")\n",
    "from nltk.stem.wordnet import WordNetLemmatizer\n",
    "\n",
    "lem = WordNetLemmatizer()\n",
    "\n",
    "def _clean(text):\n",
    "    text = text.lower()\n",
    "    text = re.sub(r\"amp\", \"\", text)\n",
    "    #text = re.sub(r\"#\\w+\",\"\",text)\n",
    "    text = re.sub(r\"@\\w+\",\"\",text)\n",
    "    text = \"\".join(x for x in text if x not in punctuation)\n",
    "    \n",
    "    words = text.split()\n",
    "    #words = [\" \" if w.startswith(\"@\") else w for w in words ]\n",
    "    words = [w for w in words if w != \"user\" ]\n",
    "    #words = [w for w in words if w != \"amp\" ]\n",
    "    \n",
    "    #words = [w for w in words if w not in stopwords]\n",
    "    words = [lem.lemmatize(word,\"v\") for word in words]\n",
    "    words = [lem.lemmatize(word,\"n\") for word in words]\n",
    "    words = [w for w in words if len(w) >1]\n",
    "    \n",
    "    \n",
    "    \n",
    "    text = \" \".join(words)\n",
    "    return text\n",
    "\n",
    "def remove_non_ascii(text):\n",
    "    L = [32, 44, 46, 65,66,67,68,69,70,71,72,73,74,75,76,77,78,79,80,81,82,83,84,85,86,87,88,89,90,97,98,99,100,101,102,103, 104,105,106,107,108,109,110,111,112,113,114,115,116,117,118,119,120,121,122]\n",
    "    text = str(text)\n",
    "\n",
    "    return ''.join(i for i in text if ord(i) in L)\n",
    "\n",
    "words = set(nltk.corpus.words.words())\n",
    "def remove_non_dict(text):\n",
    "    sent = train[\"tweet\"][0]\n",
    "    text = \" \".join(w for w in nltk.wordpunct_tokenize(text) if w.lower() in words)\n",
    "    return text"
   ]
  },
  {
   "cell_type": "code",
   "execution_count": 466,
   "metadata": {},
   "outputs": [],
   "source": [
    "train[\"tweet\"] = train[\"tweet\"].apply(_clean)\n",
    "train[\"tweet\"] = train[\"tweet\"].apply(remove_non_ascii)\n",
    "#train[\"tweet\"] = train[\"tweet\"].apply(lambda x :remove_non_dict(x))\n",
    "\n",
    "test[\"tweet\"] = test[\"tweet\"].apply(_clean)\n",
    "test[\"tweet\"] = test[\"tweet\"].apply(remove_non_ascii)\n",
    "#test[\"tweet\"] = test[\"tweet\"].apply(lambda x :remove_non_dict(x))"
   ]
  },
  {
   "cell_type": "code",
   "execution_count": 467,
   "metadata": {},
   "outputs": [],
   "source": [
    "#train['tweet'] = train['tweet'].str.replace('\\d+', '')\n",
    "#test['tweet'] = test['tweet'].str.replace('\\d+', '')\n",
    "train_text = train['tweet']\n",
    "test_text = test['tweet']\n",
    "all_text = pd.concat([train_text, test_text])\n",
    "\n",
    "from sklearn.pipeline import make_union\n",
    "\n",
    "word_vectorizer = TfidfVectorizer(\n",
    "    sublinear_tf=True,\n",
    "    strip_accents='unicode',\n",
    "    analyzer='word',\n",
    "    token_pattern=r'\\w{3,}',\n",
    "    stop_words='english',\n",
    "    ngram_range=(1, 1),\n",
    "    max_features=10000)\n",
    "#word_vectorizer.fit(all_text)\n",
    "#train_word_features = word_vectorizer.transform(train_text)\n",
    "#test_word_features = word_vectorizer.transform(test_text)\n",
    "\n",
    "char_vectorizer = TfidfVectorizer(\n",
    "    sublinear_tf=True,\n",
    "    strip_accents='unicode',\n",
    "    analyzer='char',\n",
    "    stop_words='english',\n",
    "    ngram_range=(2, 6),\n",
    "    max_features=50000)\n",
    "\n",
    "vectorizer = make_union(word_vectorizer, char_vectorizer, n_jobs=2)\n",
    "vectorizer.fit(all_text)\n",
    "#train_char_features = vectorizer.transform(train_text)\n",
    "#test_char_features = vectorizer.transform(test_text)\n",
    "train_features = vectorizer.transform(train_text)\n",
    "test_features = vectorizer.transform(test_text)\n",
    "# train_features = hstack([train_char_features, train_word_features])\n",
    "# test_features = hstack([test_char_features, test_word_features])"
   ]
  },
  {
   "cell_type": "code",
   "execution_count": 468,
   "metadata": {},
   "outputs": [
    {
     "data": {
      "text/plain": [
       "[('be', 18140),\n",
       " ('the', 15696),\n",
       " ('to', 15078),\n",
       " ('you', 8324),\n",
       " ('and', 7586),\n",
       " ('in', 7039),\n",
       " ('for', 6994),\n",
       " ('of', 6439),\n",
       " ('it', 5879),\n",
       " ('my', 5638),\n",
       " ('love', 4604),\n",
       " ('have', 4224),\n",
       " ('day', 4210),\n",
       " ('this', 4101),\n",
       " ('on', 4057),\n",
       " ('with', 3870),\n",
       " ('so', 3040),\n",
       " ('all', 3002),\n",
       " ('do', 2857),\n",
       " ('that', 2852),\n",
       " ('me', 2839),\n",
       " ('get', 2787),\n",
       " ('your', 2640),\n",
       " ('happy', 2630),\n",
       " ('at', 2556),\n",
       " ('go', 2113),\n",
       " ('we', 2080),\n",
       " ('just', 2074),\n",
       " ('will', 1972),\n",
       " ('time', 1913),\n",
       " ('when', 1901),\n",
       " ('make', 1900),\n",
       " ('not', 1876),\n",
       " ('im', 1767),\n",
       " ('life', 1740),\n",
       " ('what', 1672),\n",
       " ('today', 1664),\n",
       " ('from', 1646),\n",
       " ('but', 1606),\n",
       " ('like', 1597),\n",
       " ('up', 1595),\n",
       " ('new', 1546),\n",
       " ('now', 1501),\n",
       " ('out', 1441),\n",
       " ('positive', 1426),\n",
       " ('see', 1407),\n",
       " ('thankful', 1404),\n",
       " ('father', 1384),\n",
       " ('people', 1353),\n",
       " ('about', 1332)]"
      ]
     },
     "execution_count": 468,
     "metadata": {},
     "output_type": "execute_result"
    }
   ],
   "source": [
    "from collections import Counter\n",
    "\n",
    "complete_text = \" \".join(all_text)\n",
    "words = complete_text.split()\n",
    "Counter(words).most_common(50)"
   ]
  },
  {
   "cell_type": "code",
   "execution_count": 469,
   "metadata": {},
   "outputs": [],
   "source": [
    "# tfidf = dict(zip(word_vectorizer.get_feature_names(),word_vectorizer.idf_))\n",
    "# tfidf_idf = pd.DataFrame(columns=[\"word_tfidf\"]).from_dict(tfidf,orient=\"index\")\n",
    "# tfidf_idf.columns = [\"word_tfidf\"]\n",
    "# tfidf_idf"
   ]
  },
  {
   "cell_type": "code",
   "execution_count": 470,
   "metadata": {},
   "outputs": [],
   "source": [
    "# tfidf = dict(zip(char_vectorizer.get_feature_names(),char_vectorizer.idf_))\n",
    "# tfidf_idf = pd.DataFrame(columns=[\"word_tfidf\"]).from_dict(tfidf,orient=\"index\")\n",
    "# tfidf_idf.columns = [\"word_tfidf\"]\n",
    "# tfidf_idf"
   ]
  },
  {
   "cell_type": "code",
   "execution_count": 471,
   "metadata": {},
   "outputs": [],
   "source": [
    "# scores = []\n",
    "# submission = pd.DataFrame.from_dict({'id': test['id']})\n",
    "# train_target = train['label']\n",
    "# classifier = LogisticRegression(C=0.1, solver='sag')\n",
    "\n",
    "# cv_score = np.mean(cross_val_score(classifier, train_features, train_target, cv=3, scoring='roc_auc'))\n",
    "# scores.append(cv_score)\n",
    "# print('CV score for class {} is {}'.format(\"label\", cv_score))\n",
    "\n",
    "# classifier.fit(train_features, train_target)\n",
    "\n",
    "# submission['label'] = classifier.predict_proba(test_features)[:, 1]\n",
    "\n",
    "\n",
    "#submission.to_csv('submission.csv', index=False)"
   ]
  },
  {
   "cell_type": "code",
   "execution_count": 472,
   "metadata": {},
   "outputs": [
    {
     "name": "stderr",
     "output_type": "stream",
     "text": [
      "/Users/suryavikram/opt/anaconda3/lib/python3.7/site-packages/sklearn/linear_model/logistic.py:432: FutureWarning: Default solver will be changed to 'lbfgs' in 0.22. Specify a solver to silence this warning.\n",
      "  FutureWarning)\n"
     ]
    },
    {
     "name": "stdout",
     "output_type": "stream",
     "text": [
      "0.9549493179827305\n",
      "0.7816653410160352\n",
      "7375\n",
      "336\n",
      "256\n",
      "24\n"
     ]
    }
   ],
   "source": [
    "train_target = train['label']\n",
    "# model = LogisticRegression()\n",
    "# model.fit(train_features,train_target)\n",
    "# preds = model.predict(test_features)\n",
    "\n",
    "from sklearn.model_selection import train_test_split\n",
    "from sklearn.metrics import accuracy_score, f1_score, confusion_matrix\n",
    "\n",
    "train_x, val_x, train_y, val_y = train_test_split(train_features,train_target)\n",
    "\n",
    "model = LogisticRegression()\n",
    "model.fit(train_x,train_y)\n",
    "preds = model.predict(val_x)\n",
    "print(accuracy_score(preds,val_y))\n",
    "print(f1_score(val_y, preds, average=\"macro\"))\n",
    "CM = confusion_matrix(val_y, preds)\n",
    "TN = CM[0][0]\n",
    "print(TN)\n",
    "FN = CM[1][0]\n",
    "print(FN)\n",
    "TP = CM[1][1]\n",
    "print(TP)\n",
    "FP = CM[0][1]\n",
    "print(FP)\n"
   ]
  },
  {
   "cell_type": "code",
   "execution_count": 475,
   "metadata": {},
   "outputs": [
    {
     "name": "stdout",
     "output_type": "stream",
     "text": [
      "0.9643348767363283\n",
      "0.8428423606958746\n",
      "7366\n",
      "252\n",
      "340\n",
      "33\n"
     ]
    }
   ],
   "source": [
    "# model = ensemble.ExtraTreesClassifier()\n",
    "# model.fit(train_features,train_target)\n",
    "# preds = model.predict(test_features)\n",
    "\n",
    "model = ensemble.ExtraTreesClassifier(n_estimators=100)\n",
    "model.fit(train_x,train_y)\n",
    "preds = model.predict(val_x)\n",
    "print(accuracy_score(preds,val_y))\n",
    "print(f1_score(val_y, preds, average=\"macro\"))\n",
    "CM = confusion_matrix(val_y, preds)\n",
    "TN = CM[0][0]\n",
    "print(TN)\n",
    "FN = CM[1][0]\n",
    "print(FN)\n",
    "TP = CM[1][1]\n",
    "print(TP)\n",
    "FP = CM[0][1]\n",
    "print(FP)"
   ]
  },
  {
   "cell_type": "code",
   "execution_count": 476,
   "metadata": {},
   "outputs": [
    {
     "data": {
      "text/html": [
       "<div>\n",
       "<style scoped>\n",
       "    .dataframe tbody tr th:only-of-type {\n",
       "        vertical-align: middle;\n",
       "    }\n",
       "\n",
       "    .dataframe tbody tr th {\n",
       "        vertical-align: top;\n",
       "    }\n",
       "\n",
       "    .dataframe thead th {\n",
       "        text-align: right;\n",
       "    }\n",
       "</style>\n",
       "<table border=\"1\" class=\"dataframe\">\n",
       "  <thead>\n",
       "    <tr style=\"text-align: right;\">\n",
       "      <th></th>\n",
       "      <th>id</th>\n",
       "      <th>label</th>\n",
       "    </tr>\n",
       "  </thead>\n",
       "  <tbody>\n",
       "    <tr>\n",
       "      <td>0</td>\n",
       "      <td>31963</td>\n",
       "      <td>0</td>\n",
       "    </tr>\n",
       "    <tr>\n",
       "      <td>1</td>\n",
       "      <td>31964</td>\n",
       "      <td>1</td>\n",
       "    </tr>\n",
       "    <tr>\n",
       "      <td>2</td>\n",
       "      <td>31965</td>\n",
       "      <td>0</td>\n",
       "    </tr>\n",
       "    <tr>\n",
       "      <td>3</td>\n",
       "      <td>31966</td>\n",
       "      <td>0</td>\n",
       "    </tr>\n",
       "    <tr>\n",
       "      <td>4</td>\n",
       "      <td>31967</td>\n",
       "      <td>0</td>\n",
       "    </tr>\n",
       "  </tbody>\n",
       "</table>\n",
       "</div>"
      ],
      "text/plain": [
       "      id  label\n",
       "0  31963      0\n",
       "1  31964      1\n",
       "2  31965      0\n",
       "3  31966      0\n",
       "4  31967      0"
      ]
     },
     "execution_count": 476,
     "metadata": {},
     "output_type": "execute_result"
    }
   ],
   "source": [
    "# Creating an empty data frame\n",
    "submission = pd.DataFrame()\n",
    "preds = model.predict(test_features)\n",
    "# Assigning values to the data frame-submission_kaggle\n",
    "submission['id'] = test.id\n",
    "submission['label'] = preds\n",
    "submission.head()"
   ]
  },
  {
   "cell_type": "code",
   "execution_count": 477,
   "metadata": {},
   "outputs": [
    {
     "data": {
      "text/plain": [
       "0    16407\n",
       "1      790\n",
       "Name: label, dtype: int64"
      ]
     },
     "execution_count": 477,
     "metadata": {},
     "output_type": "execute_result"
    }
   ],
   "source": [
    "submission['label'].value_counts()"
   ]
  },
  {
   "cell_type": "code",
   "execution_count": 478,
   "metadata": {},
   "outputs": [],
   "source": [
    "# saving data as  final_kaggle.csv\n",
    "submission.to_csv('submission.csv',index=False)"
   ]
  },
  {
   "cell_type": "code",
   "execution_count": null,
   "metadata": {},
   "outputs": [],
   "source": []
  }
 ],
 "metadata": {
  "kernelspec": {
   "display_name": "Python 3",
   "language": "python",
   "name": "python3"
  },
  "language_info": {
   "codemirror_mode": {
    "name": "ipython",
    "version": 3
   },
   "file_extension": ".py",
   "mimetype": "text/x-python",
   "name": "python",
   "nbconvert_exporter": "python",
   "pygments_lexer": "ipython3",
   "version": "3.7.4"
  }
 },
 "nbformat": 4,
 "nbformat_minor": 2
}
